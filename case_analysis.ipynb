{
 "cells": [
  {
   "cell_type": "code",
   "execution_count": null,
   "metadata": {},
   "outputs": [],
   "source": [
    "import requests\n",
    "%pylab inline\n",
    "import pandas as pd\n",
    "import json\n",
    "matplotlib.rcParams['font.family'] = ['STHeiti']\n",
    "matplotlib.rcParams['font.size'] = 16.0"
   ]
  },
  {
   "cell_type": "code",
   "execution_count": null,
   "metadata": {},
   "outputs": [],
   "source": [
    "res = requests.get(\"https://lab.isaaclin.cn/nCoV/api/area?latest=0\")\n",
    "res = res.text\n",
    "print(res)\n",
    "res = json.loads(res)"
   ]
  },
  {
   "cell_type": "code",
   "execution_count": null,
   "metadata": {},
   "outputs": [],
   "source": [
    "data_dict = []\n",
    "for prov in res['results']:\n",
    "    try:\n",
    "        prov['cities']\n",
    "    except Exception as e:\n",
    "        # print(prov['provinceShortName'])\n",
    "        continue\n",
    "    for city in prov['cities']:\n",
    "        data_dict.append({\n",
    "            'date': prov['updateTime'],\n",
    "            'province': prov['provinceShortName'],\n",
    "            'city': city['cityName'],\n",
    "            'confirm': city['confirmedCount'],\n",
    "            'suspect': city['suspectedCount'],\n",
    "            'cure': city['curedCount'],\n",
    "            'dead': city['deadCount'],\n",
    "        })\n",
    "city_df = pd.DataFrame(data_dict)\n",
    "city_df['date'] = city_df.date.astype('datetime64[ms]').dt.floor('d')\n",
    "city_df = city_df.set_index('date')\n",
    "city_df.to_csv(\"data/city_data_0204.csv\")\n",
    "with open(\"data/city_data_0204.json\",\"w\") as f:\n",
    "    f.write(json.dumps(res['results']))\n",
    "city_df.head()"
   ]
  },
  {
   "cell_type": "code",
   "execution_count": null,
   "metadata": {},
   "outputs": [],
   "source": [
    "data_dict = []\n",
    "for prov in res['results']:\n",
    "    data_dict.append({\n",
    "        'province': prov['provinceName'],\n",
    "        'confirm': prov['confirmedCount'],\n",
    "        'suspect': prov['suspectedCount'],\n",
    "        'cure': prov['curedCount'],\n",
    "        'dead': prov['deadCount'],\n",
    "        'date': prov['updateTime']\n",
    "    })\n",
    "prov_data = pd.DataFrame(data_dict)"
   ]
  },
  {
   "cell_type": "code",
   "execution_count": null,
   "metadata": {},
   "outputs": [],
   "source": [
    "prov_data['date'] = prov_data.date.astype('datetime64[ms]').dt.floor('d')\n",
    "prov_data = prov_data.set_index('date')\n",
    "prov_data.to_csv(\"data/prov_data_0204.csv\")"
   ]
  },
  {
   "cell_type": "code",
   "execution_count": null,
   "metadata": {
    "scrolled": true
   },
   "outputs": [],
   "source": [
    "prov_data = pd.DataFrame.from_csv(\"data/prov_data_0204.csv\")\n",
    "prov_data.head(10)"
   ]
  },
  {
   "cell_type": "code",
   "execution_count": null,
   "metadata": {},
   "outputs": [],
   "source": [
    "prov_data = prov_data.groupby([prov_data.index,prov_data.province]).agg({'confirm':max,'cure':max,'dead':max,'province':lambda x:x[0]})\n",
    "prov_data"
   ]
  },
  {
   "cell_type": "code",
   "execution_count": null,
   "metadata": {},
   "outputs": [],
   "source": [
    "prov_data = prov_data.set_index(prov_data.index.get_level_values(0))"
   ]
  },
  {
   "cell_type": "code",
   "execution_count": null,
   "metadata": {},
   "outputs": [],
   "source": [
    "# look at time series for each province\n",
    "fig, axes = plt.subplots(1,2,figsize=(14,8))\n",
    "provinces = prov_data.province.unique()\n",
    "for prov in provinces:\n",
    "    sub_df = prov_data[prov_data.province==prov]\n",
    "    # print('%s: %d' % (prov, len(sub_df)))\n",
    "    # skip provinces without full week of data or starts with 0 \n",
    "    if len(sub_df) < 7 or np.sum(sub_df.confirm == 0) > 0 :\n",
    "        continue\n",
    "    sub_df.plot(kind='line', y='confirm', style='-o', ax=axes[0], label=prov,logy=True)\n",
    "axes[0].legend(bbox_to_anchor=(-0, 1),fontsize=14,frameon=False)\n",
    "axes[0].set_ylabel(\"确诊人数\",fontsize=16)\n",
    "axes[0].set_xlabel(\"日期\",fontsize=16)\n",
    "# axes[0].set_ylim([1e0,5e3])\n",
    "# look at hubei vs. outside hubei\n",
    "prov_data[prov_data.province=='湖北省'].plot(ax=axes[1], kind='line', y='confirm', style='-^', label='湖北省',logy=True)\n",
    "subdf = prov_data[prov_data.province!='湖北省']\n",
    "subdf.groupby(subdf.index).confirm.sum().plot(ax=axes[1],kind='line', y='confirm', style='-D', label='湖北省以外',logy=True)\n",
    "prov_data.groupby(prov_data.index).confirm.sum().plot(ax=axes[1],kind='line', y='confirm', style='-s', label='全国',logy=True)\n",
    "axes[1].legend(fontsize=16,frameon=False)\n",
    "axes[1].set_ylabel(\"确诊人数\",fontsize=16)\n",
    "axes[1].set_xlabel(\"日期\",fontsize=16)\n",
    "# axes[1].set_ylim([1e0,5e3])\n",
    "plt.tight_layout()\n",
    "plt.show()\n"
   ]
  },
  {
   "cell_type": "code",
   "execution_count": null,
   "metadata": {},
   "outputs": [],
   "source": [
    "from sklearn.metrics import r2_score\n",
    "tb = 0\n",
    "\n",
    "fig, axes = plt.subplots(1,2,figsize=(12,6))\n",
    "\n",
    "# data fitting for data outside Hubei province\n",
    "outside_hubei = subdf.groupby(subdf.index).confirm.sum()\n",
    "x = np.arange(len(outside_hubei))\n",
    "y = np.log10(outside_hubei)\n",
    "axes[0].plot(x, 10**y, 'ks', label='湖北省外数据')\n",
    "if tb != 0:\n",
    "    x_ = np.arange(len(outside_hubei))[:-tb]\n",
    "    y_ = np.log10(outside_hubei)[:-tb]\n",
    "else:\n",
    "    x_ = np.arange(len(outside_hubei))\n",
    "    y_ = np.log10(outside_hubei)\n",
    "coeff = np.polyfit(x_, y_, deg=1)\n",
    "y_fit = coeff[0] * x + coeff[-1]\n",
    "rsq = r2_score(y, y_fit)\n",
    "axes[0].plot(x, 10**y_fit, 'k-', label='拟合(order=1): $r^2$=%.4f' % rsq)\n",
    "coeff = np.polyfit(x_, y_, deg=2)\n",
    "# coeff_saved = coeff.copy()\n",
    "y_fit = coeff[0]*x**2 + coeff[1]*x + coeff[-1]\n",
    "# y_fit = coeff[0]*x**3 + coeff[1]*x**2 + coeff[2]*x+coeff[-1]\n",
    "rsq = r2_score(y, y_fit)\n",
    "axes[0].plot(x, 10**y_fit, 'k--',label='拟合(order=2): $r^2$=%.4f' % rsq)\n",
    "coeff = np.polyfit(x_, y_, deg=3)\n",
    "coeff_saved = coeff.copy()\n",
    "y_fit = coeff[0]*x**3 + coeff[1]*x**2 + coeff[2]*x+coeff[-1]\n",
    "rsq = r2_score(y, y_fit)\n",
    "axes[0].plot(x, 10**y_fit, 'b--',label='拟合(order=3): $r^2$=%.4f' % rsq)\n",
    "axes[0].set_yscale('log')\n",
    "axes[0].set_xlabel('日',fontsize=16)\n",
    "axes[0].set_ylabel('确诊人数',fontsize=16)\n",
    "axes[0].legend(fontsize=16)\n",
    "\n",
    "# data fitting for Hubei province\n",
    "inside_hubei = prov_data[prov_data.province=='湖北省'].confirm\n",
    "y = np.log10(inside_hubei)\n",
    "axes[1].plot(x, 10**y, 'ks', label='湖北省内数据')\n",
    "coeff = np.polyfit(x, y, deg=1)\n",
    "y_fit = coeff[0] * x + coeff[-1]\n",
    "rsq = r2_score(y, y_fit)\n",
    "axes[1].plot(x, 10**y_fit, 'k-', label='拟合(order=1): $r^2$=%.4f' % rsq)\n",
    "coeff = np.polyfit(x, y, deg=2)\n",
    "y_fit = coeff[0]*x**2 + coeff[1]*x + coeff[-1]\n",
    "rsq = r2_score(y, y_fit)\n",
    "axes[1].plot(x, 10**y_fit, 'k--',label='拟合(order=2): $r^2$=%.4f' % rsq)\n",
    "axes[1].set_yscale('log')\n",
    "axes[1].set_xlabel('日',fontsize=16)\n",
    "axes[1].set_ylabel('确诊人数',fontsize=16)\n",
    "axes[1].legend(fontsize=16)\n",
    "plt.tight_layout()"
   ]
  },
  {
   "cell_type": "code",
   "execution_count": null,
   "metadata": {},
   "outputs": [],
   "source": [
    "fig, axes = plt.subplots(2,1,figsize=(8,6),sharex=True)\n",
    "start_day = len(x)-1\n",
    "x_pred = np.arange(start_day,start_day+2)\n",
    "y_pred = coeff_saved[0]*x_pred**2 + coeff_saved[1]*x_pred + coeff_saved[-1]\n",
    "y_fit = coeff_saved[0]*x**2 + coeff_saved[1]*x + coeff_saved[-1]\n",
    "# y_fit = coeff_saved[0]*x**3 + coeff_saved[1]*x**2 + coeff_saved[2]*x + coeff_saved[-1]\n",
    "axes[0].plot(outside_hubei.index[x], outside_hubei, 'ko', label='湖北省外数据')\n",
    "axes[0].plot(outside_hubei.index[x], 10**y_fit, 'k--',label='拟合(order=3)')\n",
    "date_pred = outside_hubei.index[:len(y_pred)]+pd.DateOffset(days=start_day)\n",
    "err = outside_hubei - 10**y_fit \n",
    "# err = y_fit - np.log10(outside_hubei)\n",
    "# use latest 5 days to predict std\n",
    "_err = err.values[-5:]\n",
    "axes[0].plot(date_pred, 10**y_pred, 'r--',label='预测')\n",
    "axes[0].plot(date_pred[1], 10**y_pred[1], 'ro',label='%s: \\n累计: %d$\\pm$%d例\\n增加: %d$\\pm$%d例' % \\\n",
    "        (date_pred[1].date(), 10**y_pred[1], 2*int(_err.std(ddof=1)), 10**y_pred[1] - 10**y_pred[0], 2*int(_err.std(ddof=1))))\n",
    "axes[0].set_yscale('log')\n",
    "axes[0].set_ylabel('确诊人数/人',fontsize=16)\n",
    "axes[0].legend(fontsize=16,frameon=False)\n",
    "axes[1].plot(outside_hubei.index[x], err, 'ko', label='与拟合误差')\n",
    "axes[1].axhline(0,color='k',ls=':')\n",
    "axes[1].set_xlabel('日期',fontsize=16)\n",
    "axes[1].set_ylabel('与拟合误差/人',fontsize=16)\n",
    "plt.xticks(fontsize=12)\n",
    "axes[1].legend(fontsize=16,frameon=False,loc=\"upper left\")\n",
    "plt.tight_layout()"
   ]
  },
  {
   "cell_type": "code",
   "execution_count": null,
   "metadata": {},
   "outputs": [],
   "source": [
    "fig, axes = plt.subplots(2,1,figsize=(8,6),sharex=True)\n",
    "start_day = len(x)-1\n",
    "x_pred = np.arange(start_day,start_day+2)\n",
    "# y_pred = coeff_saved[0]*x_pred**2 + coeff_saved[1]*x_pred + coeff_saved[-1]\n",
    "y_pred = coeff_saved[0]*x_pred**3 + coeff_saved[1]*x_pred**2 + coeff_saved[2]*x_pred + coeff_saved[-1]\n",
    "# y_fit = coeff_saved[0]*x**2 + coeff_saved[1]*x + coeff_saved[-1]\n",
    "y_fit = coeff_saved[0]*x**3 + coeff_saved[1]*x**2 + coeff_saved[2]*x + coeff_saved[-1]\n",
    "axes[0].plot(outside_hubei.index[x], outside_hubei, 'ko', label='湖北省外数据')\n",
    "axes[0].plot(outside_hubei.index[x], 10**y_fit, 'k--',label='拟合(order=3)')\n",
    "date_pred = outside_hubei.index[:len(y_pred)]+pd.DateOffset(days=start_day)\n",
    "err = outside_hubei - 10**y_fit \n",
    "# err = y_fit - np.log10(outside_hubei)\n",
    "# use latest 5 days to predict std\n",
    "_err = err.values[-5:]\n",
    "axes[0].plot(date_pred, 10**y_pred, 'r--',label='预测')\n",
    "axes[0].plot(date_pred[1], 10**y_pred[1], 'ro',label='%s: \\n累计: %d$\\pm$%d例\\n增加: %d$\\pm$%d例' % \\\n",
    "        (date_pred[1].date(), 10**y_pred[1], 2*int(_err.std(ddof=1)), 10**y_pred[1] - 10**y_pred[0], 2*int(_err.std(ddof=1))))\n",
    "axes[0].set_yscale('log')\n",
    "axes[0].set_ylabel('确诊人数/人',fontsize=16)\n",
    "axes[0].legend(fontsize=16,frameon=False)\n",
    "axes[1].plot(outside_hubei.index[x], err, 'ko', label='与拟合误差')\n",
    "axes[1].axhline(0,color='k',ls=':')\n",
    "axes[1].set_xlabel('日期',fontsize=16)\n",
    "axes[1].set_ylabel('与拟合误差/人',fontsize=16)\n",
    "plt.xticks(fontsize=12)\n",
    "axes[1].legend(fontsize=16,frameon=False,loc=\"upper left\")\n",
    "plt.tight_layout()"
   ]
  },
  {
   "cell_type": "code",
   "execution_count": null,
   "metadata": {},
   "outputs": [],
   "source": [
    "fig, ax = plt.subplots(1,1,figsize=(10,8))\n",
    "x = np.arange(len(outside_hubei)-1)\n",
    "ax.plot(x, outside_hubei.values[1:] - outside_hubei.values[:-1],'ks',label='新增确诊人数(湖北省外)')\n",
    "# plt.plot(x, 80*log(4*x+2))\n",
    "ax.set_yscale('log')\n",
    "ax.set_xlabel('天')\n",
    "ax.set_ylabel(\"新增确诊人数\")\n",
    "ax.legend(frameon=True,loc='best')\n",
    "ax2 = ax.twinx()\n",
    "ax2.plot(x, (outside_hubei.values[1:] - outside_hubei.values[:-1])/outside_hubei.values[:-1]*100, 'k:',label='新增人数比例(湖北省外)')\n",
    "ax2.legend(frameon=True,loc='center right')\n",
    "ax2.set_ylabel(\"新增人数比例/%\")"
   ]
  },
  {
   "cell_type": "code",
   "execution_count": null,
   "metadata": {},
   "outputs": [],
   "source": [
    "# 各省增数histogram\n",
    "hist = []\n",
    "for prov in prov_data.province.unique():\n",
    "    df = prov_data[prov_data.province==prov]\n",
    "    if len(df)<2:\n",
    "        continue\n",
    "    if prov[-1] != '省' and prov[-1] != '市':\n",
    "        continue\n",
    "    rate = (df.confirm[-1] - df.confirm[-2])#/df.confirm[-2]*100\n",
    "    hist.append({\n",
    "        'province': prov,\n",
    "        'rate': rate\n",
    "    })\n",
    "rate_df = pd.DataFrame(hist)\n",
    "rate_df.head()"
   ]
  },
  {
   "cell_type": "code",
   "execution_count": null,
   "metadata": {},
   "outputs": [],
   "source": [
    "plt.figure(figsize=(8,6))\n",
    "rate_df = rate_df[np.isfinite(rate_df.rate)]\n",
    "# rate_df.rate.hist(bins=np.linspace(5,35,31)+0.5)"
   ]
  },
  {
   "cell_type": "code",
   "execution_count": null,
   "metadata": {},
   "outputs": [],
   "source": [
    "rate_df[rate_df.rate>20]"
   ]
  },
  {
   "cell_type": "code",
   "execution_count": null,
   "metadata": {},
   "outputs": [],
   "source": []
  }
 ],
 "metadata": {
  "kernelspec": {
   "display_name": "Python 3",
   "language": "python",
   "name": "python3"
  },
  "language_info": {
   "codemirror_mode": {
    "name": "ipython",
    "version": 3
   },
   "file_extension": ".py",
   "mimetype": "text/x-python",
   "name": "python",
   "nbconvert_exporter": "python",
   "pygments_lexer": "ipython3",
   "version": "3.7.3"
  }
 },
 "nbformat": 4,
 "nbformat_minor": 2
}
